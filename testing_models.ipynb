{
  "nbformat": 4,
  "nbformat_minor": 0,
  "metadata": {
    "colab": {
      "provenance": [],
      "authorship_tag": "ABX9TyPtDVUqVtISBZGCbVJ5Iw+E"
    },
    "kernelspec": {
      "name": "python3",
      "display_name": "Python 3"
    },
    "language_info": {
      "name": "python"
    }
  },
  "cells": [
    {
      "cell_type": "code",
      "execution_count": null,
      "metadata": {
        "id": "8dmjUH9h_Sn5"
      },
      "outputs": [],
      "source": [
        "# from flask import Flask\n",
        "\n",
        "# app = Flask(__name__)\n",
        "\n",
        "\n",
        "# @app.route('/')\n",
        "# def home():\n",
        "#     return 'hello there'\n",
        "\n",
        "\n",
        "\n",
        "# if __name__ == '__main__':\n",
        "#     app.run()"
      ]
    },
    {
      "cell_type": "code",
      "source": [
        "# from flask import Flask\n",
        "\n",
        "# app = Flask(__name__)\n",
        "\n",
        "\n",
        "# @app.route('/')\n",
        "# def home():\n",
        "#     return 'hello there'\n",
        "\n",
        "\n",
        "\n",
        "# if __name__ == '__main__':\n",
        "#     app.run(debug = True, use_reloader = True)"
      ],
      "metadata": {
        "id": "WEDZAc9ZLVX4"
      },
      "execution_count": null,
      "outputs": []
    },
    {
      "cell_type": "code",
      "source": [
        "# from flask import Flask\n",
        "# import pickle\n",
        "# import numpy as np\n",
        "\n",
        "# app = Flask(__name__)\n",
        "\n",
        "# model = 'pkl_file'\n",
        "\n",
        "# with open(model, 'rb') as file:\n",
        "#     model = pickle.load(file)\n",
        "\n",
        "# Expected = {\n",
        "# \" \":{\"min\":3, \"max\":8},\n",
        "# \" \":{\"min\":68.0, \"max\":455.0},\n",
        "# \" \":{\"min\":46.0, \"max\":230.0},\n",
        "# \" \":{\"min\":1613.0, \"max\":5140.0},\n",
        "# \" \":{\"min\":8.0, \"max\":24.8},\n",
        "# \" \":{\"min\":70, \"max\":82},\n",
        "# \" \":{\"min\":1, \"max\":3}\n",
        "# }\n",
        "\n",
        "# @app.route('/api')\n",
        "# def home():\n",
        "#     return 'hello there, General Kenobi'\n",
        "\n",
        "\n",
        "\n",
        "# if __name__ == '__main__':\n",
        "#     app.run(debug = True, use_reloader = True)"
      ],
      "metadata": {
        "id": "B-NXjs9jLKEL"
      },
      "execution_count": null,
      "outputs": []
    },
    {
      "cell_type": "code",
      "source": [
        "from flask import Flask, request, jsonify\n",
        "import pickle\n",
        "import numpy as np\n",
        "\n",
        "app = Flask(__name__)\n",
        "\n",
        "model = 'pkl_file'\n",
        "\n",
        "with open(model, 'rb') as file:\n",
        "    model = pickle.load(file)\n",
        "\n",
        "Expected = {\n",
        "\" \":{\"min\":3, \"max\":8},\n",
        "\" \":{\"min\":68.0, \"max\":455.0},\n",
        "\" \":{\"min\":46.0, \"max\":230.0},\n",
        "\" \":{\"min\":1613.0, \"max\":5140.0},\n",
        "\" \":{\"min\":8.0, \"max\":24.8},\n",
        "\" \":{\"min\":70, \"max\":82},\n",
        "\" \":{\"min\":1, \"max\":3}\n",
        "}\n",
        "\n",
        "@app.route('/', methods = ['POST'])\n",
        "def mpg_prediction():\n",
        "    content = request.json\n",
        "    errors = []\n",
        "    for name in content:\n",
        "        if name in Expected:\n",
        "            expected_min = Expected[name]['min']\n",
        "            expected_max = Expected[name]['max']\n",
        "            value = content[name]\n",
        "            if value < expected_min or value > expected_max:\n",
        "                errors.append(f'Out of bounds: {name}, has value of: {value}, but it should be between {expected_min} and {expected_max}.')\n",
        "            else:\n",
        "                errors.append(f'Unexpected field: {name}')\n",
        "    for name in Expected:\n",
        "        if name not in content:\n",
        "            errors.append(f'Missing value: {name}')\n",
        "\n",
        "\n",
        "    if len(errors) > 1:\n",
        "        x = np.zeros((1, 7))\n",
        "\n",
        "        x[0, 0] = content['cylinders']\n",
        "        x[0, 1] = content['displacement']\n",
        "        x[0, 2] = content['horsepower']\n",
        "        x[0, 3] = content['weight']\n",
        "        x[0, 4] = content['acceleration']\n",
        "        x[0, 5] = content['year']\n",
        "        x[0, 6] = content['origin']\n",
        "\n",
        "        prediction = model.predict(x)\n",
        "        mpg = round(prediction[0], 2)\n",
        "        response = {'mpg': mpg}\n",
        "        \n",
        "    else:\n",
        "        response = {'errors': errors}\n",
        "    \n",
        "    return jsonify(response)\n",
        "\n",
        "\n",
        "\n",
        "if __name__ == '__main__':\n",
        "    app.run(debug = True, use_reloader = True)"
      ],
      "metadata": {
        "id": "rg3sbsPhLadb"
      },
      "execution_count": null,
      "outputs": []
    },
    {
      "cell_type": "code",
      "source": [
        "import requests\n",
        "\n",
        "# data = {\"cylinders\": 8, \"displacement\": 307, \"horsepower\": 120, \"weight\":3204, \"acceleration\": 20, \"year\": 76, \"origin\": 1}\n",
        "\n",
        "\n",
        "data = {\"cylinders\": 7, \"displacement\": 370, \"horsepower\": 140, \"weight\":3204, \"acceleration\": 20, \"year\": 76, \"origin\": 1}\n",
        "\n",
        "res = requests.post(\"http://localhost:5000\", json=data)\n",
        "\n",
        "if res.status_code == 200:\n",
        "    print(f'It works: {res.text}')\n",
        "\n",
        "else:\n",
        "    print(f'It did not work: {res.text}')"
      ],
      "metadata": {
        "id": "e9a1aZu3LfjF"
      },
      "execution_count": null,
      "outputs": []
    }
  ]
}